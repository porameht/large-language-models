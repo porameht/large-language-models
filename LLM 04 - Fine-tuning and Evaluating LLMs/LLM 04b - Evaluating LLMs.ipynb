{
 "cells": [
  {
   "cell_type": "markdown",
   "metadata": {
    "application/vnd.databricks.v1+cell": {
     "cellMetadata": {},
     "inputWidgets": {},
     "nuid": "52f5b495-ab23-4f8b-ada4-ea27d91a235d",
     "showTitle": false,
     "title": ""
    }
   },
   "source": [
    "-sandbox\n",
    "\n",
    "<div style=\"text-align: center; line-height: 0; padding-top: 9px;\">\n",
    "  <img src=\"https://databricks.com/wp-content/uploads/2018/03/db-academy-rgb-1200px.png\" alt=\"Databricks Learning\" style=\"width: 600px\">\n",
    "</div>"
   ]
  },
  {
   "cell_type": "markdown",
   "metadata": {
    "application/vnd.databricks.v1+cell": {
     "cellMetadata": {},
     "inputWidgets": {},
     "nuid": "154c2a6b-3258-4646-b6b5-0136670355e5",
     "showTitle": false,
     "title": ""
    }
   },
   "source": [
    "# Evaluating Large Language Models (LLMs)\n",
    "This notebook demonstrates methods for evaluating LLMs.  We focus on the task of summarization and cover accuracy, ROUGE-N, and perplexity.\n",
    "\n",
    "### ![Dolly](https://files.training.databricks.com/images/llm/dolly_small.png) Learning Objectives\n",
    "1. Know how to compute ROUGE-N and other metrics.\n",
    "2. Gain an intuitive understanding of ROUGE-N.\n",
    "3. Test various models and model sizes on the same data, and compare their results."
   ]
  },
  {
   "cell_type": "markdown",
   "metadata": {
    "application/vnd.databricks.v1+cell": {
     "cellMetadata": {},
     "inputWidgets": {},
     "nuid": "7930a617-657e-42c9-9b6b-907993228ee6",
     "showTitle": false,
     "title": ""
    }
   },
   "source": [
    "## Classroom Setup"
   ]
  },
  {
   "cell_type": "code",
   "execution_count": 0,
   "metadata": {
    "application/vnd.databricks.v1+cell": {
     "cellMetadata": {},
     "inputWidgets": {},
     "nuid": "a8327f99-44d8-4904-842f-f5413fd2c03b",
     "showTitle": false,
     "title": ""
    }
   },
   "outputs": [],
   "source": [
    "%pip install rouge_score==0.1.2"
   ]
  },
  {
   "cell_type": "code",
   "execution_count": 0,
   "metadata": {
    "application/vnd.databricks.v1+cell": {
     "cellMetadata": {},
     "inputWidgets": {},
     "nuid": "2d2eac90-0212-4f89-ac65-19a5d2a0a361",
     "showTitle": false,
     "title": ""
    }
   },
   "outputs": [],
   "source": [
    "%run ../Includes/Classroom-Setup"
   ]
  },
  {
   "cell_type": "markdown",
   "metadata": {
    "application/vnd.databricks.v1+cell": {
     "cellMetadata": {},
     "inputWidgets": {},
     "nuid": "ca2d1dce-c234-45b8-b83f-193e418e3b17",
     "showTitle": false,
     "title": ""
    }
   },
   "source": [
    "## How can we evaluate summarization?\n",
    "\n",
    "Suppose you are developing a smartphone news app and need to display automatically generated summaries of breaking news articles.  How can you evaluate whether or not the summaries you are generating are good?\n",
    "\n",
    "![](https://drive.google.com/uc?export=view&id=1V6cMD1LgivCb850JDhva1DO9EWVH8rJ7)"
   ]
  },
  {
   "cell_type": "markdown",
   "metadata": {
    "application/vnd.databricks.v1+cell": {
     "cellMetadata": {},
     "inputWidgets": {},
     "nuid": "fc17705c-6f71-4da5-957e-9067c74d7d13",
     "showTitle": false,
     "title": ""
    }
   },
   "source": [
    "## Dataset\n",
    "\n",
    "We will use a subset of the `cnn_dailymail` dataset from See et al., 2017, downloadable from the Hugging Face `datasets` hub: https://huggingface.co/datasets/cnn_dailymail\n",
    "\n",
    "This dataset provides news article paired with summaries (in the \"highlights\" column).  Let's load the data and take a look at some examples."
   ]
  },
  {
   "cell_type": "code",
   "execution_count": 0,
   "metadata": {
    "application/vnd.databricks.v1+cell": {
     "cellMetadata": {},
     "inputWidgets": {},
     "nuid": "6d4e6ffd-4f73-4399-90be-d14bbe70a08d",
     "showTitle": false,
     "title": ""
    }
   },
   "outputs": [],
   "source": [
    "import torch\n",
    "from datasets import load_dataset\n",
    "\n",
    "full_dataset = load_dataset(\n",
    "    \"cnn_dailymail\", version=\"3.0.0\", cache_dir=DA.paths.datasets\n",
    ")  # Note: We specify cache_dir to use pre-cached data.\n",
    "\n",
    "# Use a small sample of the data during this lab, for speed.\n",
    "sample_size = 100\n",
    "sample = (\n",
    "    full_dataset[\"train\"]\n",
    "    .filter(lambda r: \"CNN\" in r[\"article\"][:25])\n",
    "    .shuffle(seed=42)\n",
    "    .select(range(sample_size))\n",
    ")\n",
    "sample"
   ]
  },
  {
   "cell_type": "code",
   "execution_count": 0,
   "metadata": {
    "application/vnd.databricks.v1+cell": {
     "cellMetadata": {},
     "inputWidgets": {},
     "nuid": "0f414d00-d723-4898-bb90-e4c31836b2d7",
     "showTitle": false,
     "title": ""
    }
   },
   "outputs": [],
   "source": [
    "display(sample.to_pandas())"
   ]
  },
  {
   "cell_type": "code",
   "execution_count": 0,
   "metadata": {
    "application/vnd.databricks.v1+cell": {
     "cellMetadata": {},
     "inputWidgets": {},
     "nuid": "861c9a4c-c7a1-4de6-9e72-2dc1715ffcc4",
     "showTitle": false,
     "title": ""
    }
   },
   "outputs": [],
   "source": [
    "example_article = sample[\"article\"][0]\n",
    "example_summary = sample[\"highlights\"][0]\n",
    "print(f\"Article:\\n{example_article}\\n\")\n",
    "print(f\"Summary:\\n{example_summary}\")"
   ]
  },
  {
   "cell_type": "markdown",
   "metadata": {
    "application/vnd.databricks.v1+cell": {
     "cellMetadata": {},
     "inputWidgets": {},
     "nuid": "54bde8ee-45b5-4014-ba9e-113233f223c3",
     "showTitle": false,
     "title": ""
    }
   },
   "source": [
    "## Summarization"
   ]
  },
  {
   "cell_type": "code",
   "execution_count": 0,
   "metadata": {
    "application/vnd.databricks.v1+cell": {
     "cellMetadata": {},
     "inputWidgets": {},
     "nuid": "29d3a21e-f569-47df-a16a-775508889adb",
     "showTitle": false,
     "title": ""
    }
   },
   "outputs": [],
   "source": [
    "import pandas as pd\n",
    "import torch\n",
    "import gc\n",
    "from transformers import AutoTokenizer, T5ForConditionalGeneration"
   ]
  },
  {
   "cell_type": "code",
   "execution_count": 0,
   "metadata": {
    "application/vnd.databricks.v1+cell": {
     "cellMetadata": {},
     "inputWidgets": {},
     "nuid": "337253f3-199d-4386-9c97-f6e8e3ea0585",
     "showTitle": false,
     "title": ""
    }
   },
   "outputs": [],
   "source": [
    "def batch_generator(data: list, batch_size: int):\n",
    "    \"\"\"\n",
    "    Creates batches of size `batch_size` from a list.\n",
    "    \"\"\"\n",
    "    s = 0\n",
    "    e = s + batch_size\n",
    "    while s < len(data):\n",
    "        yield data[s:e]\n",
    "        s = e\n",
    "        e = min(s + batch_size, len(data))\n",
    "\n",
    "\n",
    "def summarize_with_t5(\n",
    "    model_checkpoint: str, articles: list, batch_size: int = 8\n",
    ") -> list:\n",
    "    \"\"\"\n",
    "    Compute summaries using a T5 model.\n",
    "    This is similar to a `pipeline` for a T5 model but does tokenization manually.\n",
    "\n",
    "    :param model_checkpoint: Name for a model checkpoint in Hugging Face, such as \"t5-small\" or \"t5-base\"\n",
    "    :param articles: List of strings, where each string represents one article.\n",
    "    :return: List of strings, where each string represents one article's generated summary\n",
    "    \"\"\"\n",
    "    if torch.cuda.is_available():\n",
    "        device = \"cuda:0\"\n",
    "    else:\n",
    "        device = \"cpu\"\n",
    "\n",
    "    model = T5ForConditionalGeneration.from_pretrained(\n",
    "        model_checkpoint, cache_dir=DA.paths.datasets\n",
    "    ).to(device)\n",
    "    tokenizer = AutoTokenizer.from_pretrained(\n",
    "        model_checkpoint, model_max_length=1024, cache_dir=DA.paths.datasets\n",
    "    )\n",
    "\n",
    "    def perform_inference(batch: list) -> list:\n",
    "        inputs = tokenizer(\n",
    "            batch, max_length=1024, return_tensors=\"pt\", padding=True, truncation=True\n",
    "        )\n",
    "\n",
    "        summary_ids = model.generate(\n",
    "            inputs.input_ids.to(device),\n",
    "            attention_mask=inputs.attention_mask.to(device),\n",
    "            num_beams=2,\n",
    "            min_length=0,\n",
    "            max_length=40,\n",
    "        )\n",
    "        return tokenizer.batch_decode(summary_ids, skip_special_tokens=True)\n",
    "\n",
    "    res = []\n",
    "\n",
    "    summary_articles = list(map(lambda article: \"summarize: \" + article, articles))\n",
    "    for batch in batch_generator(summary_articles, batch_size=batch_size):\n",
    "        res += perform_inference(batch)\n",
    "\n",
    "        torch.cuda.empty_cache()\n",
    "        gc.collect()\n",
    "\n",
    "    # clean up\n",
    "    del tokenizer\n",
    "    del model\n",
    "    torch.cuda.empty_cache()\n",
    "    gc.collect()\n",
    "    return res"
   ]
  },
  {
   "cell_type": "code",
   "execution_count": 0,
   "metadata": {
    "application/vnd.databricks.v1+cell": {
     "cellMetadata": {},
     "inputWidgets": {},
     "nuid": "0bed1220-cdc9-4fc7-b317-1ae0a7b8a055",
     "showTitle": false,
     "title": ""
    }
   },
   "outputs": [],
   "source": [
    "t5_small_summaries = summarize_with_t5(\"t5-small\", sample[\"article\"])"
   ]
  },
  {
   "cell_type": "code",
   "execution_count": 0,
   "metadata": {
    "application/vnd.databricks.v1+cell": {
     "cellMetadata": {},
     "inputWidgets": {},
     "nuid": "9c8a7c45-997d-445f-b342-6a8a03ca5ccd",
     "showTitle": false,
     "title": ""
    }
   },
   "outputs": [],
   "source": [
    "reference_summaries = sample[\"highlights\"]"
   ]
  },
  {
   "cell_type": "code",
   "execution_count": 0,
   "metadata": {
    "application/vnd.databricks.v1+cell": {
     "cellMetadata": {},
     "inputWidgets": {},
     "nuid": "279c0295-79b4-4479-bc37-9e75ffa9b266",
     "showTitle": false,
     "title": ""
    }
   },
   "outputs": [],
   "source": [
    "display(\n",
    "    pd.DataFrame.from_dict(\n",
    "        {\n",
    "            \"generated\": t5_small_summaries,\n",
    "            \"reference\": reference_summaries,\n",
    "        }\n",
    "    )\n",
    ")"
   ]
  },
  {
   "cell_type": "markdown",
   "metadata": {
    "application/vnd.databricks.v1+cell": {
     "cellMetadata": {},
     "inputWidgets": {},
     "nuid": "b854f510-1920-4ede-a5f1-487b23778d39",
     "showTitle": false,
     "title": ""
    }
   },
   "source": [
    "You may see some warning messages in the output above.  While pipelines are handy, they provide less control over the tokenizer and model; we will dive deeper later.\n",
    "\n",
    "But first, let's see how our summarization pipeline does!  We'll compute 0/1 accuracy, a classic ML evaluation metric."
   ]
  },
  {
   "cell_type": "code",
   "execution_count": 0,
   "metadata": {
    "application/vnd.databricks.v1+cell": {
     "cellMetadata": {},
     "inputWidgets": {},
     "nuid": "8f68fa39-38a3-48d5-9faa-6576eed46c8d",
     "showTitle": false,
     "title": ""
    }
   },
   "outputs": [],
   "source": [
    "accuracy = 0.0\n",
    "for i in range(len(reference_summaries)):\n",
    "    generated_summary = t5_small_summaries[i]\n",
    "    if generated_summary == reference_summaries[i]:\n",
    "        accuracy += 1.0\n",
    "accuracy = accuracy / len(reference_summaries)\n",
    "\n",
    "print(f\"Achieved accuracy {accuracy}!\")"
   ]
  },
  {
   "cell_type": "markdown",
   "metadata": {
    "application/vnd.databricks.v1+cell": {
     "cellMetadata": {},
     "inputWidgets": {},
     "nuid": "1765efc0-601c-4dbb-8118-a160570ab1d0",
     "showTitle": false,
     "title": ""
    }
   },
   "source": [
    "Accuracy zero?!?  We can see that the (very generic) metric of 0/1 accuracy is not useful for summarization.  Thinking about this more, small variations in wording may not matter much, and many different summaries may be equally valid.  So how can we evaluate summarization?"
   ]
  },
  {
   "cell_type": "markdown",
   "metadata": {
    "application/vnd.databricks.v1+cell": {
     "cellMetadata": {},
     "inputWidgets": {},
     "nuid": "704ec025-27d1-4e12-9fab-b2ee2bffbc3c",
     "showTitle": false,
     "title": ""
    }
   },
   "source": [
    "## ROUGE\n",
    "\n",
    "Now that we can generate summaries---and we know 0/1 accuracy is useless here---let's look at how we can compute a meaningful metric designed to evaluate summarization: ROUGE.\n",
    "\n",
    "Recall-Oriented Understudy for Gisting Evaluation (ROUGE) is a set of evaluation metrics designed for comparing summaries from Lin et al., 2004.  See https://en.wikipedia.org/wiki/ROUGE_(metric) for more info.  Here, we use the Hugging Face Evaluator wrapper to call into the `rouge_score` package.  This package provides 4 scores:\n",
    "\n",
    "* `rouge1`: ROUGE computed over unigrams (single words or tokens)\n",
    "* `rouge2`: ROUGE computed over bigrams (pairs of consecutive words or tokens)\n",
    "* `rougeL`: ROUGE based on the longest common subsequence shared by the summaries being compared\n",
    "* `rougeLsum`: like `rougeL`, but at \"summary level,\" i.e., ignoring sentence breaks (newlines)"
   ]
  },
  {
   "cell_type": "code",
   "execution_count": 0,
   "metadata": {
    "application/vnd.databricks.v1+cell": {
     "cellMetadata": {},
     "inputWidgets": {},
     "nuid": "94110ce7-1d17-4260-a1ab-0f443bd8839c",
     "showTitle": false,
     "title": ""
    }
   },
   "outputs": [],
   "source": [
    "import evaluate\n",
    "import nltk\n",
    "from nltk.tokenize import sent_tokenize\n",
    "\n",
    "nltk.download(\"punkt\")\n",
    "\n",
    "rouge_score = evaluate.load(\"rouge\")"
   ]
  },
  {
   "cell_type": "markdown",
   "metadata": {
    "application/vnd.databricks.v1+cell": {
     "cellMetadata": {},
     "inputWidgets": {},
     "nuid": "bf55e00b-13e6-4639-86e6-95ab4218b3be",
     "showTitle": false,
     "title": ""
    }
   },
   "source": [
    "You can call `rouge_score` evaluator directly, but we provide a convenience function below to handle the expected input format."
   ]
  },
  {
   "cell_type": "code",
   "execution_count": 0,
   "metadata": {
    "application/vnd.databricks.v1+cell": {
     "cellMetadata": {},
     "inputWidgets": {},
     "nuid": "e86cdd3a-7921-46d4-8174-4c0f9e168414",
     "showTitle": false,
     "title": ""
    }
   },
   "outputs": [],
   "source": [
    "def compute_rouge_score(generated: list, reference: list) -> dict:\n",
    "    \"\"\"\n",
    "    Compute ROUGE scores on a batch of articles.\n",
    "\n",
    "    This is a convenience function wrapping Hugging Face `rouge_score`,\n",
    "    which expects sentences to be separated by newlines.\n",
    "\n",
    "    :param generated: Summaries (list of strings) produced by the model\n",
    "    :param reference: Ground-truth summaries (list of strings) for comparison\n",
    "    \"\"\"\n",
    "    generated_with_newlines = [\"\\n\".join(sent_tokenize(s.strip())) for s in generated]\n",
    "    reference_with_newlines = [\"\\n\".join(sent_tokenize(s.strip())) for s in reference]\n",
    "    return rouge_score.compute(\n",
    "        predictions=generated_with_newlines,\n",
    "        references=reference_with_newlines,\n",
    "        use_stemmer=True,\n",
    "    )"
   ]
  },
  {
   "cell_type": "code",
   "execution_count": 0,
   "metadata": {
    "application/vnd.databricks.v1+cell": {
     "cellMetadata": {},
     "inputWidgets": {},
     "nuid": "664e66c6-0c49-4fe9-baca-446098e15919",
     "showTitle": false,
     "title": ""
    }
   },
   "outputs": [],
   "source": [
    "# ROUGE scores for our batch of articles\n",
    "compute_rouge_score(t5_small_summaries, reference_summaries)"
   ]
  },
  {
   "cell_type": "markdown",
   "metadata": {
    "application/vnd.databricks.v1+cell": {
     "cellMetadata": {},
     "inputWidgets": {},
     "nuid": "b4325f0b-1fbf-4d9b-b198-d8f6dbca8659",
     "showTitle": false,
     "title": ""
    }
   },
   "source": [
    "## Understanding ROUGE scores"
   ]
  },
  {
   "cell_type": "code",
   "execution_count": 0,
   "metadata": {
    "application/vnd.databricks.v1+cell": {
     "cellMetadata": {},
     "inputWidgets": {},
     "nuid": "2c19cbed-2ab4-47e9-8323-52507abda6f0",
     "showTitle": false,
     "title": ""
    }
   },
   "outputs": [],
   "source": [
    "# Sanity check: What if our predictions match the references exactly?\n",
    "compute_rouge_score(reference_summaries, reference_summaries)"
   ]
  },
  {
   "cell_type": "code",
   "execution_count": 0,
   "metadata": {
    "application/vnd.databricks.v1+cell": {
     "cellMetadata": {},
     "inputWidgets": {},
     "nuid": "3770df1d-2cab-4c4b-8338-65415644ec05",
     "showTitle": false,
     "title": ""
    }
   },
   "outputs": [],
   "source": [
    "# And what if we fail to predict anything?\n",
    "compute_rouge_score(\n",
    "    generated=[\"\" for _ in range(len(reference_summaries))],\n",
    "    reference=reference_summaries,\n",
    ")"
   ]
  },
  {
   "cell_type": "markdown",
   "metadata": {
    "application/vnd.databricks.v1+cell": {
     "cellMetadata": {},
     "inputWidgets": {},
     "nuid": "b851a6c4-ccb0-4f88-b9a7-e27a3969dfc7",
     "showTitle": false,
     "title": ""
    }
   },
   "source": [
    "Stemming predictions and references can help to ignore minor differences.\n",
    "\n",
    "We will use `rouge_score.compute()` directly for these hand-constructed examples."
   ]
  },
  {
   "cell_type": "code",
   "execution_count": 0,
   "metadata": {
    "application/vnd.databricks.v1+cell": {
     "cellMetadata": {},
     "inputWidgets": {},
     "nuid": "dc34f4b1-4fbc-4677-b558-01634afb1ee2",
     "showTitle": false,
     "title": ""
    }
   },
   "outputs": [],
   "source": [
    "rouge_score.compute(\n",
    "    predictions=[\"Large language models beat world record\"],\n",
    "    references=[\"Large language models beating world records\"],\n",
    "    use_stemmer=False,\n",
    ")"
   ]
  },
  {
   "cell_type": "code",
   "execution_count": 0,
   "metadata": {
    "application/vnd.databricks.v1+cell": {
     "cellMetadata": {},
     "inputWidgets": {},
     "nuid": "407b9a5a-b0e1-4d16-8202-47747c48fc52",
     "showTitle": false,
     "title": ""
    }
   },
   "outputs": [],
   "source": [
    "rouge_score.compute(\n",
    "    predictions=[\"Large language models beat world record\"],\n",
    "    references=[\"Large language models beating world records\"],\n",
    "    use_stemmer=True,\n",
    ")"
   ]
  },
  {
   "cell_type": "markdown",
   "metadata": {
    "application/vnd.databricks.v1+cell": {
     "cellMetadata": {},
     "inputWidgets": {},
     "nuid": "97a9e26e-b7a6-49c8-a891-7ddace6080e5",
     "showTitle": false,
     "title": ""
    }
   },
   "source": [
    "Let's look at how the ROUGE score behaves in various situations."
   ]
  },
  {
   "cell_type": "code",
   "execution_count": 0,
   "metadata": {
    "application/vnd.databricks.v1+cell": {
     "cellMetadata": {},
     "inputWidgets": {},
     "nuid": "86f38152-d6c1-43e0-9d02-a7301430a99b",
     "showTitle": false,
     "title": ""
    }
   },
   "outputs": [],
   "source": [
    "# What if we predict exactly 1 word correctly?\n",
    "rouge_score.compute(\n",
    "    predictions=[\"Large language models beat world record\"],\n",
    "    references=[\"Large\"],\n",
    "    use_stemmer=True,\n",
    ")"
   ]
  },
  {
   "cell_type": "code",
   "execution_count": 0,
   "metadata": {
    "application/vnd.databricks.v1+cell": {
     "cellMetadata": {},
     "inputWidgets": {},
     "nuid": "6c4aa835-3e91-4679-96a2-d27f4d8d0ae6",
     "showTitle": false,
     "title": ""
    }
   },
   "outputs": [],
   "source": [
    "# The ROUGE score is symmetric with respect to predictions and references.\n",
    "rouge_score.compute(\n",
    "    predictions=[\"Large\"],\n",
    "    references=[\"Large language models beat world record\"],\n",
    "    use_stemmer=True,\n",
    ")"
   ]
  },
  {
   "cell_type": "code",
   "execution_count": 0,
   "metadata": {
    "application/vnd.databricks.v1+cell": {
     "cellMetadata": {},
     "inputWidgets": {},
     "nuid": "0e233b3a-27c4-436f-b6f2-1f87c528f3d1",
     "showTitle": false,
     "title": ""
    }
   },
   "outputs": [],
   "source": [
    "# What about 2 words?  Note how 'rouge1' and 'rouge2' compare with the case when we predict exactly 1 word correctly.\n",
    "rouge_score.compute(\n",
    "    predictions=[\"Large language\"],\n",
    "    references=[\"Large language models beat world record\"],\n",
    "    use_stemmer=True,\n",
    ")"
   ]
  },
  {
   "cell_type": "code",
   "execution_count": 0,
   "metadata": {
    "application/vnd.databricks.v1+cell": {
     "cellMetadata": {},
     "inputWidgets": {},
     "nuid": "9eaa9259-f4c5-48ec-88a0-618a7adc2c5d",
     "showTitle": false,
     "title": ""
    }
   },
   "outputs": [],
   "source": [
    "# Note how rouge1 differs from the rougeN (N>1) scores when we predict word subsequences correctly.\n",
    "rouge_score.compute(\n",
    "    predictions=[\"Models beat large language world record\"],\n",
    "    references=[\"Large language models beat world record\"],\n",
    "    use_stemmer=True,\n",
    ")"
   ]
  },
  {
   "cell_type": "markdown",
   "metadata": {
    "application/vnd.databricks.v1+cell": {
     "cellMetadata": {},
     "inputWidgets": {},
     "nuid": "0a659dd2-c0b3-49ea-96df-7720a52efafe",
     "showTitle": false,
     "title": ""
    }
   },
   "source": [
    "d ## Compare small and large models\n",
    "\n",
    " We've been working with the `t5-small` model so far.  Let's compare several models with different architectures in terms of their ROUGE scores and some example generated summaries."
   ]
  },
  {
   "cell_type": "code",
   "execution_count": 0,
   "metadata": {
    "application/vnd.databricks.v1+cell": {
     "cellMetadata": {},
     "inputWidgets": {},
     "nuid": "996dc418-9261-4a3e-b7fe-9b7d74022b4a",
     "showTitle": false,
     "title": ""
    }
   },
   "outputs": [],
   "source": [
    "def compute_rouge_per_row(\n",
    "    generated_summaries: list, reference_summaries: list\n",
    ") -> pd.DataFrame:\n",
    "    \"\"\"\n",
    "    Generates a dataframe to compare rogue score metrics.\n",
    "    \"\"\"\n",
    "    generated_with_newlines = [\n",
    "        \"\\n\".join(sent_tokenize(s.strip())) for s in generated_summaries\n",
    "    ]\n",
    "    reference_with_newlines = [\n",
    "        \"\\n\".join(sent_tokenize(s.strip())) for s in reference_summaries\n",
    "    ]\n",
    "    scores = rouge_score.compute(\n",
    "        predictions=generated_with_newlines,\n",
    "        references=reference_with_newlines,\n",
    "        use_stemmer=True,\n",
    "        use_aggregator=False,\n",
    "    )\n",
    "    scores[\"generated\"] = generated_summaries\n",
    "    scores[\"reference\"] = reference_summaries\n",
    "    return pd.DataFrame.from_dict(scores)"
   ]
  },
  {
   "cell_type": "markdown",
   "metadata": {
    "application/vnd.databricks.v1+cell": {
     "cellMetadata": {},
     "inputWidgets": {},
     "nuid": "210be854-d216-4e3c-a2fa-6e06a0341f16",
     "showTitle": false,
     "title": ""
    }
   },
   "source": [
    "### T5-small\n",
    "\n",
    "The [T5](https://huggingface.co/docs/transformers/model_doc/t5) [[paper]](https://arxiv.org/pdf/1910.10683.pdf) family of models are text-to-text transformers that have been trained on a multi-task mixture of unsupervised and supervised tasks. They are well suited for task such as summarization, translation, text classification, question answering, and more.\n",
    "\n",
    "The t5-small version of the T5 models has 60 million parameters."
   ]
  },
  {
   "cell_type": "code",
   "execution_count": 0,
   "metadata": {
    "application/vnd.databricks.v1+cell": {
     "cellMetadata": {},
     "inputWidgets": {},
     "nuid": "2876d1cf-c749-4184-a058-390de6d869d4",
     "showTitle": false,
     "title": ""
    }
   },
   "outputs": [],
   "source": [
    "# We computed t5_small_summaries above already.\n",
    "compute_rouge_score(t5_small_summaries, reference_summaries)"
   ]
  },
  {
   "cell_type": "code",
   "execution_count": 0,
   "metadata": {
    "application/vnd.databricks.v1+cell": {
     "cellMetadata": {},
     "inputWidgets": {},
     "nuid": "ad3e560d-3033-4d66-b9f7-25455df239f3",
     "showTitle": false,
     "title": ""
    }
   },
   "outputs": [],
   "source": [
    "t5_small_results = compute_rouge_per_row(\n",
    "    generated_summaries=t5_small_summaries, reference_summaries=reference_summaries\n",
    ")\n",
    "display(t5_small_results)"
   ]
  },
  {
   "cell_type": "markdown",
   "metadata": {
    "application/vnd.databricks.v1+cell": {
     "cellMetadata": {},
     "inputWidgets": {},
     "nuid": "84bd69a1-0205-4579-bfd2-ad260726e7b9",
     "showTitle": false,
     "title": ""
    }
   },
   "source": [
    "### T5-base\n",
    "\n",
    "The [T5-base](https://huggingface.co/t5-base) model has 220 million parameters."
   ]
  },
  {
   "cell_type": "code",
   "execution_count": 0,
   "metadata": {
    "application/vnd.databricks.v1+cell": {
     "cellMetadata": {},
     "inputWidgets": {},
     "nuid": "f7e60f9b-4110-41b6-99ed-5dd4105616a2",
     "showTitle": false,
     "title": ""
    }
   },
   "outputs": [],
   "source": [
    "t5_base_summaries = summarize_with_t5(\n",
    "    model_checkpoint=\"t5-base\", articles=sample[\"article\"]\n",
    ")\n",
    "compute_rouge_score(t5_base_summaries, reference_summaries)"
   ]
  },
  {
   "cell_type": "code",
   "execution_count": 0,
   "metadata": {
    "application/vnd.databricks.v1+cell": {
     "cellMetadata": {},
     "inputWidgets": {},
     "nuid": "bbfcc4bb-5e26-45e6-adbc-73723c8a294a",
     "showTitle": false,
     "title": ""
    }
   },
   "outputs": [],
   "source": [
    "t5_base_results = compute_rouge_per_row(\n",
    "    generated_summaries=t5_base_summaries, reference_summaries=reference_summaries\n",
    ")\n",
    "display(t5_base_results)"
   ]
  },
  {
   "cell_type": "markdown",
   "metadata": {
    "application/vnd.databricks.v1+cell": {
     "cellMetadata": {},
     "inputWidgets": {},
     "nuid": "a7846982-9c05-4498-9911-3dfaefeb2f55",
     "showTitle": false,
     "title": ""
    }
   },
   "source": [
    "### GPT-2\n",
    "\n",
    "The [GPT-2](https://huggingface.co/gpt2) model is a generative text model that was trained in a self-supervised fashion. Its strengths are in using a 'completing the sentence' for a given prompt.  It has 124 million parameters."
   ]
  },
  {
   "cell_type": "code",
   "execution_count": 0,
   "metadata": {
    "application/vnd.databricks.v1+cell": {
     "cellMetadata": {},
     "inputWidgets": {},
     "nuid": "49e82041-80d6-48b9-9857-ff5da55c7f1b",
     "showTitle": false,
     "title": ""
    }
   },
   "outputs": [],
   "source": [
    "from transformers import GPT2LMHeadModel, GPT2Tokenizer\n",
    "\n",
    "\n",
    "def summarize_with_gpt2(\n",
    "    model_checkpoint: str, articles: list, batch_size: int = 8\n",
    ") -> list:\n",
    "    \"\"\"\n",
    "    Convenience function for summarization with GPT2 to handle these complications:\n",
    "    - Append \"TL;DR\" to the end of the input to get GPT2 to generate a summary.\n",
    "    https://huggingface.co/course/chapter7/5?fw=pt\n",
    "    - Truncate input to handle long articles.\n",
    "    - GPT2 uses a max token length of 1024.  We use a shorter 512 limit here.\n",
    "\n",
    "    :param model_checkpoint: reference to checkpointed model\n",
    "    :param articles: list of strings\n",
    "    :return: generated summaries, with the input and \"TL;DR\" removed\n",
    "    \"\"\"\n",
    "    if torch.cuda.is_available():\n",
    "        device = \"cuda:0\"\n",
    "    else:\n",
    "        device = \"cpu\"\n",
    "\n",
    "    tokenizer = GPT2Tokenizer.from_pretrained(\n",
    "        model_checkpoint, padding_side=\"left\", cache_dir=DA.paths.datasets\n",
    "    )\n",
    "    tokenizer.add_special_tokens({\"pad_token\": tokenizer.eos_token})\n",
    "    model = GPT2LMHeadModel.from_pretrained(\n",
    "        model_checkpoint,\n",
    "        pad_token_id=tokenizer.eos_token_id,\n",
    "        cache_dir=DA.paths.datasets,\n",
    "    ).to(device)\n",
    "\n",
    "    def perform_inference(batch: list) -> list:\n",
    "        tmp_inputs = tokenizer(\n",
    "            batch, max_length=500, return_tensors=\"pt\", padding=True, truncation=True\n",
    "        )\n",
    "        tmp_inputs_decoded = tokenizer.batch_decode(\n",
    "            tmp_inputs.input_ids, skip_special_tokens=True\n",
    "        )\n",
    "        inputs = tokenizer(\n",
    "            [article + \" TL;DR:\" for article in tmp_inputs_decoded],\n",
    "            max_length=512,\n",
    "            return_tensors=\"pt\",\n",
    "            padding=True,\n",
    "            truncation=True,\n",
    "        )\n",
    "        summary_ids = model.generate(\n",
    "            inputs.input_ids.to(device),\n",
    "            attention_mask=inputs.attention_mask.to(device),\n",
    "            num_beams=2,\n",
    "            min_length=0,\n",
    "            max_length=512 + 32,\n",
    "        )\n",
    "        return tokenizer.batch_decode(summary_ids, skip_special_tokens=True)\n",
    "\n",
    "    decoded_summaries = []\n",
    "    for batch in batch_generator(articles, batch_size=batch_size):\n",
    "        decoded_summaries += perform_inference(batch)\n",
    "\n",
    "        # batch clean up\n",
    "        torch.cuda.empty_cache()\n",
    "        gc.collect()\n",
    "\n",
    "    # post-process decoded summaries\n",
    "    summaries = [\n",
    "        summary[summary.find(\"TL;DR:\") + len(\"TL;DR: \") :]\n",
    "        for summary in decoded_summaries\n",
    "    ]\n",
    "\n",
    "    # cleanup\n",
    "    del tokenizer\n",
    "    del model\n",
    "    torch.cuda.empty_cache()\n",
    "    gc.collect()\n",
    "\n",
    "    return summaries"
   ]
  },
  {
   "cell_type": "code",
   "execution_count": 0,
   "metadata": {
    "application/vnd.databricks.v1+cell": {
     "cellMetadata": {},
     "inputWidgets": {},
     "nuid": "d7216438-338b-4747-9a80-3c34f6875f0a",
     "showTitle": false,
     "title": ""
    }
   },
   "outputs": [],
   "source": [
    "gpt2_summaries = summarize_with_gpt2(\n",
    "    model_checkpoint=\"gpt2\", articles=sample[\"article\"]\n",
    ")\n",
    "compute_rouge_score(gpt2_summaries, reference_summaries)"
   ]
  },
  {
   "cell_type": "code",
   "execution_count": 0,
   "metadata": {
    "application/vnd.databricks.v1+cell": {
     "cellMetadata": {},
     "inputWidgets": {},
     "nuid": "c5ef7b84-5dd3-436a-9010-1b30d6e128ac",
     "showTitle": false,
     "title": ""
    }
   },
   "outputs": [],
   "source": [
    "gpt2_results = compute_rouge_per_row(\n",
    "    generated_summaries=gpt2_summaries, reference_summaries=reference_summaries\n",
    ")\n",
    "display(gpt2_results)"
   ]
  },
  {
   "cell_type": "markdown",
   "metadata": {
    "application/vnd.databricks.v1+cell": {
     "cellMetadata": {},
     "inputWidgets": {},
     "nuid": "0bed1d7f-3589-41f3-90ba-509d8f5b558a",
     "showTitle": false,
     "title": ""
    }
   },
   "source": [
    "### Comparing all models\n",
    "\n",
    "We use a couple of helper functions to compare the above models, first by their evaluation metrics (quantitative) and second by their generated summaries (qualitative)."
   ]
  },
  {
   "cell_type": "code",
   "execution_count": 0,
   "metadata": {
    "application/vnd.databricks.v1+cell": {
     "cellMetadata": {},
     "inputWidgets": {},
     "nuid": "8222b877-f4e5-45c1-b86f-67feb1b1c04c",
     "showTitle": false,
     "title": ""
    }
   },
   "outputs": [],
   "source": [
    "def compare_models(models_results: dict) -> pd.DataFrame:\n",
    "    \"\"\"\n",
    "    :param models_results: dict of \"model name\" string mapped to pd.DataFrame of results computed by `compute_rouge_per_row`\n",
    "    :return: pd.DataFrame with 1 row per model, with columns: model, rouge1, rouge2, rougeL, rougeLsum\n",
    "    where metrics are averages over input results for each model\n",
    "    \"\"\"\n",
    "    agg_results = []\n",
    "    for r in models_results:\n",
    "        model_results = models_results[r].drop(\n",
    "            labels=[\"generated\", \"reference\"], axis=1\n",
    "        )\n",
    "        agg_metrics = [r]\n",
    "        agg_metrics[1:] = model_results.mean(axis=0)\n",
    "        agg_results.append(agg_metrics)\n",
    "    return pd.DataFrame(\n",
    "        agg_results, columns=[\"model\", \"rouge1\", \"rouge2\", \"rougeL\", \"rougeLsum\"]\n",
    "    )"
   ]
  },
  {
   "cell_type": "code",
   "execution_count": 0,
   "metadata": {
    "application/vnd.databricks.v1+cell": {
     "cellMetadata": {},
     "inputWidgets": {},
     "nuid": "e5003714-51d0-4266-89d2-358a67c3996d",
     "showTitle": false,
     "title": ""
    }
   },
   "outputs": [],
   "source": [
    "display(\n",
    "    compare_models(\n",
    "        {\n",
    "            \"t5-small\": t5_small_results,\n",
    "            \"t5-base\": t5_base_results,\n",
    "            \"gpt2\": gpt2_results,\n",
    "        }\n",
    "    )\n",
    ")"
   ]
  },
  {
   "cell_type": "code",
   "execution_count": 0,
   "metadata": {
    "application/vnd.databricks.v1+cell": {
     "cellMetadata": {},
     "inputWidgets": {},
     "nuid": "b7549fc2-6120-47eb-9bb1-f072b59222b7",
     "showTitle": false,
     "title": ""
    }
   },
   "outputs": [],
   "source": [
    "def compare_models_summaries(models_summaries: dict) -> pd.DataFrame:\n",
    "    \"\"\"\n",
    "    Aggregates results from `models_summaries` and returns a dataframe.\n",
    "    \"\"\"\n",
    "    comparison_df = None\n",
    "    for model_name in models_summaries:\n",
    "        summaries_df = models_summaries[model_name]\n",
    "        if comparison_df is None:\n",
    "            comparison_df = summaries_df[[\"generated\"]].rename(\n",
    "                {\"generated\": model_name}, axis=1\n",
    "            )\n",
    "        else:\n",
    "            comparison_df = comparison_df.join(\n",
    "                summaries_df[[\"generated\"]].rename({\"generated\": model_name}, axis=1)\n",
    "            )\n",
    "    return comparison_df"
   ]
  },
  {
   "cell_type": "code",
   "execution_count": 0,
   "metadata": {
    "application/vnd.databricks.v1+cell": {
     "cellMetadata": {},
     "inputWidgets": {},
     "nuid": "14672b26-2bec-4bf3-b070-00a7ef48fecc",
     "showTitle": false,
     "title": ""
    }
   },
   "outputs": [],
   "source": [
    "# In the output table below, scroll to the right to see all models.\n",
    "display(\n",
    "    compare_models_summaries(\n",
    "        {\n",
    "            \"t5_small\": t5_small_results,\n",
    "            \"t5_base\": t5_base_results,\n",
    "            \"gpt2\": gpt2_results,\n",
    "        }\n",
    "    )\n",
    ")"
   ]
  },
  {
   "cell_type": "markdown",
   "metadata": {
    "application/vnd.databricks.v1+cell": {
     "cellMetadata": {},
     "inputWidgets": {},
     "nuid": "5151aaa8-e628-4273-8c5d-da36157a0fe1",
     "showTitle": false,
     "title": ""
    }
   },
   "source": [
    "-sandbox\n",
    "&copy; 2023 Databricks, Inc. All rights reserved.<br/>\n",
    "Apache, Apache Spark, Spark and the Spark logo are trademarks of the <a href=\"https://www.apache.org/\">Apache Software Foundation</a>.<br/>\n",
    "<br/>\n",
    "<a href=\"https://databricks.com/privacy-policy\">Privacy Policy</a> | <a href=\"https://databricks.com/terms-of-use\">Terms of Use</a> | <a href=\"https://help.databricks.com/\">Support</a>"
   ]
  }
 ],
 "metadata": {
  "application/vnd.databricks.v1+notebook": {
   "dashboards": [],
   "language": "python",
   "notebookMetadata": {
    "pythonIndentUnit": 4
   },
   "notebookName": "LLM 04b - Evaluating LLMs",
   "widgets": {}
  }
 },
 "nbformat": 4,
 "nbformat_minor": 0
}
