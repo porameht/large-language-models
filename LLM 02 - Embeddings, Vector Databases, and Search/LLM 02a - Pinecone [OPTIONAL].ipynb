{
 "cells": [
  {
   "cell_type": "markdown",
   "metadata": {
    "application/vnd.databricks.v1+cell": {
     "cellMetadata": {},
     "inputWidgets": {},
     "nuid": "7abf023b-df96-4f7b-9a83-142c598cbb7b",
     "showTitle": false,
     "title": ""
    }
   },
   "source": [
    "-sandbox\n",
    "\n",
    "<div style=\"text-align: center; line-height: 0; padding-top: 9px;\">\n",
    "  <img src=\"https://databricks.com/wp-content/uploads/2018/03/db-academy-rgb-1200px.png\" alt=\"Databricks Learning\" style=\"width: 600px\">\n",
    "</div>"
   ]
  },
  {
   "cell_type": "markdown",
   "metadata": {
    "application/vnd.databricks.v1+cell": {
     "cellMetadata": {},
     "inputWidgets": {},
     "nuid": "9a2be2f8-77ca-46e3-bb2f-109d08bd99b0",
     "showTitle": false,
     "title": ""
    }
   },
   "source": [
    "# Pinecone\n",
    "\n",
    "In this section, we are going to try out another vector database, called Pinecone. It has a free tier which you need to sign up for to gain access below.\n",
    "\n",
    "Pinecone is a cloud-based vector database that offers fast and scalable similarity search for high-dimensional data, with a focus on simplicity and ease of use."
   ]
  },
  {
   "cell_type": "markdown",
   "metadata": {
    "application/vnd.databricks.v1+cell": {
     "cellMetadata": {},
     "inputWidgets": {},
     "nuid": "2e7536f4-c903-44cd-af62-f44db9a15dc2",
     "showTitle": false,
     "title": ""
    }
   },
   "source": [
    "## Library pre-requisites\n",
    "\n",
    "- pinecone-client\n",
    "  - pip install below\n",
    "- Spark connector jar file\n",
    "  - **IMPORTANT!!** Since we will be interacting with Spark by writing a Spark dataframe out to Pinecone, we need a Spark Connector.\n",
    "  - You need to attach a Spark-Pinecone connector `s3://pinecone-jars/spark-pinecone-uberjar.jar` in the cluster you are using. Refer to this [documentation](https://docs.pinecone.io/docs/databricks#setting-up-a-spark-cluster) if you need more information."
   ]
  },
  {
   "cell_type": "code",
   "execution_count": 0,
   "metadata": {
    "application/vnd.databricks.v1+cell": {
     "cellMetadata": {},
     "inputWidgets": {},
     "nuid": "706ef625-208b-45f5-aabc-91e69a5ecb15",
     "showTitle": false,
     "title": ""
    }
   },
   "outputs": [],
   "source": [
    "%pip install pinecone-client==2.2.1"
   ]
  },
  {
   "cell_type": "markdown",
   "metadata": {
    "application/vnd.databricks.v1+cell": {
     "cellMetadata": {},
     "inputWidgets": {},
     "nuid": "939ba7d5-c89c-48ca-b691-0f3df8a4e4ef",
     "showTitle": false,
     "title": ""
    }
   },
   "source": [
    "## Classroom Setup"
   ]
  },
  {
   "cell_type": "code",
   "execution_count": 0,
   "metadata": {
    "application/vnd.databricks.v1+cell": {
     "cellMetadata": {},
     "inputWidgets": {},
     "nuid": "1f29ae76-e67b-42e2-8e84-d289c7684154",
     "showTitle": false,
     "title": ""
    }
   },
   "outputs": [],
   "source": [
    "%run ../Includes/Classroom-Setup"
   ]
  },
  {
   "cell_type": "markdown",
   "metadata": {
    "application/vnd.databricks.v1+cell": {
     "cellMetadata": {},
     "inputWidgets": {},
     "nuid": "e1790ef4-6203-4e56-acb3-34a4a9a818e7",
     "showTitle": false,
     "title": ""
    }
   },
   "source": [
    "### Setting up your Pinecone\n",
    "\n",
    "Step 1: Go to their [home page](https://www.pinecone.io/) and click `Sign Up Free` on the top right corner. \n",
    "<br>\n",
    "Step 2: Click on `Sign Up`. It's possible that you may not be able to sign up for a new account, depending on Pinecone's availability. \n",
    "\n",
    "<img src=\"https://files.training.databricks.com/images/pinecone_register.png\" width=300>\n",
    "\n",
    "Step 3: Once you are in the console, navigate to `API Keys` and copy the `Environment` and `Value` (this is your API key).\n",
    "\n",
    "<img src=\"https://files.training.databricks.com/images/pinecone_credentials.png\" width=500>"
   ]
  },
  {
   "cell_type": "code",
   "execution_count": 0,
   "metadata": {
    "application/vnd.databricks.v1+cell": {
     "cellMetadata": {},
     "inputWidgets": {},
     "nuid": "ad0e7d88-611a-48b3-9f99-65c42136e237",
     "showTitle": false,
     "title": ""
    }
   },
   "outputs": [],
   "source": [
    "# TODO\n",
    "import os\n",
    "\n",
    "os.environ[\"PINECONE_API_KEY\"] = \"<FILL IN>\"\n",
    "os.environ[\"PINECONE_ENV\"] = \"<FILL IN>\""
   ]
  },
  {
   "cell_type": "code",
   "execution_count": 0,
   "metadata": {
    "application/vnd.databricks.v1+cell": {
     "cellMetadata": {},
     "inputWidgets": {},
     "nuid": "84cf8b8f-d207-4bee-b277-bdd978439f5f",
     "showTitle": false,
     "title": ""
    }
   },
   "outputs": [],
   "source": [
    "import pinecone\n",
    "\n",
    "pinecone_api_key = os.environ[\"PINECONE_API_KEY\"]\n",
    "pinecone_env = os.environ[\"PINECONE_ENV\"]\n",
    "\n",
    "pinecone.init(api_key=pinecone_api_key, environment=pinecone_env)"
   ]
  },
  {
   "cell_type": "code",
   "execution_count": 0,
   "metadata": {
    "application/vnd.databricks.v1+cell": {
     "cellMetadata": {},
     "inputWidgets": {},
     "nuid": "9f948a01-ae88-4db4-a3df-e851202526e1",
     "showTitle": false,
     "title": ""
    }
   },
   "outputs": [],
   "source": [
    "import pyspark.sql.functions as F\n",
    "\n",
    "df = (\n",
    "    spark.read.option(\"header\", True)\n",
    "    .option(\"sep\", \";\")\n",
    "    .format(\"csv\")\n",
    "    .load(\n",
    "        f\"{DA.paths.datasets}/news/labelled_newscatcher_dataset.csv\".replace(\n",
    "            \"/dbfs\", \"dbfs:\"\n",
    "        )\n",
    "    )\n",
    "    .withColumn(\"id\", F.expr(\"uuid()\"))\n",
    ")\n",
    "display(df)"
   ]
  },
  {
   "cell_type": "markdown",
   "metadata": {
    "application/vnd.databricks.v1+cell": {
     "cellMetadata": {},
     "inputWidgets": {},
     "nuid": "9db7975c-9cd1-41e9-b3fa-8dc0d570d7f6",
     "showTitle": false,
     "title": ""
    }
   },
   "source": [
    "For Pinecone, we need to generate the embeddings first and save it to a dataframe, before we can write it out to Pinecone for indexing. \n",
    "\n",
    "There are two ways of doing it: \n",
    "1. Using pandas DataFrame, apply the single-node embedding model, and upsert to Pinecone in batches\n",
    "2. Using Spark Dataframe and use pandas UDFs to help us apply the embedding model on batches of data"
   ]
  },
  {
   "cell_type": "markdown",
   "metadata": {
    "application/vnd.databricks.v1+cell": {
     "cellMetadata": {},
     "inputWidgets": {},
     "nuid": "623b72a8-2dbc-4214-8011-a0b306404582",
     "showTitle": false,
     "title": ""
    }
   },
   "source": [
    "### Method 1: Upsert to Pinecone in batches"
   ]
  },
  {
   "cell_type": "code",
   "execution_count": 0,
   "metadata": {
    "application/vnd.databricks.v1+cell": {
     "cellMetadata": {},
     "inputWidgets": {},
     "nuid": "162822ce-2f3c-43ff-8307-b94b4e050be0",
     "showTitle": false,
     "title": ""
    }
   },
   "outputs": [],
   "source": [
    "pdf = df.limit(1000).toPandas()\n",
    "display(pdf)"
   ]
  },
  {
   "cell_type": "markdown",
   "metadata": {
    "application/vnd.databricks.v1+cell": {
     "cellMetadata": {},
     "inputWidgets": {},
     "nuid": "ef26142a-5112-4ef6-b412-fc3199d0b8e5",
     "showTitle": false,
     "title": ""
    }
   },
   "source": [
    "Note: Pinecone free tier only allows one index. If you have existing indices, you need to delete them before you are able create a new index.\n",
    "\n",
    "We specify the similarity measure, embedding vector dimension within the index.\n",
    "\n",
    "Read documentation on how to [create index here](https://docs.pinecone.io/reference/create_index/)."
   ]
  },
  {
   "cell_type": "code",
   "execution_count": 0,
   "metadata": {
    "application/vnd.databricks.v1+cell": {
     "cellMetadata": {},
     "inputWidgets": {},
     "nuid": "c2868877-1e32-43bf-9218-cfaa8b0502ab",
     "showTitle": false,
     "title": ""
    }
   },
   "outputs": [],
   "source": [
    "from sentence_transformers import SentenceTransformer\n",
    "\n",
    "# We will use embeddings from this model to apply to our data\n",
    "model = SentenceTransformer(\n",
    "    \"all-MiniLM-L6-v2\", cache_folder=DA.paths.datasets\n",
    ")  # Use a pre-cached model"
   ]
  },
  {
   "cell_type": "markdown",
   "metadata": {
    "application/vnd.databricks.v1+cell": {
     "cellMetadata": {},
     "inputWidgets": {},
     "nuid": "f25d5899-b693-4052-a3df-611d86a8a4ea",
     "showTitle": false,
     "title": ""
    }
   },
   "source": [
    "Delete the index if it already exists"
   ]
  },
  {
   "cell_type": "code",
   "execution_count": 0,
   "metadata": {
    "application/vnd.databricks.v1+cell": {
     "cellMetadata": {},
     "inputWidgets": {},
     "nuid": "ac2e9044-25fd-4d45-9c7c-684b91ad9738",
     "showTitle": false,
     "title": ""
    }
   },
   "outputs": [],
   "source": [
    "pinecone_index_name = \"news\"\n",
    "\n",
    "if pinecone_index_name in pinecone.list_indexes():\n",
    "    pinecone.delete_index(pinecone_index_name)"
   ]
  },
  {
   "cell_type": "markdown",
   "metadata": {
    "application/vnd.databricks.v1+cell": {
     "cellMetadata": {},
     "inputWidgets": {},
     "nuid": "397869ec-2ebb-464f-abba-496b29bc1340",
     "showTitle": false,
     "title": ""
    }
   },
   "source": [
    "Create the index.\n",
    "\n",
    "We specify the index name (required), embedding vector dimension (required), and a custom similarity metric (cosine is the default) when creating our index."
   ]
  },
  {
   "cell_type": "code",
   "execution_count": 0,
   "metadata": {
    "application/vnd.databricks.v1+cell": {
     "cellMetadata": {},
     "inputWidgets": {},
     "nuid": "b66ab1c6-7d1b-451f-829b-93671f192358",
     "showTitle": false,
     "title": ""
    }
   },
   "outputs": [],
   "source": [
    "# only create index if it doesn't exist\n",
    "if pinecone_index_name not in pinecone.list_indexes():\n",
    "    pinecone.create_index(\n",
    "        name=pinecone_index_name,\n",
    "        dimension=model.get_sentence_embedding_dimension(),\n",
    "        metric=\"cosine\",\n",
    "    )\n",
    "\n",
    "# now connect to the index\n",
    "pinecone_index = pinecone.Index(pinecone_index_name)"
   ]
  },
  {
   "cell_type": "markdown",
   "metadata": {
    "application/vnd.databricks.v1+cell": {
     "cellMetadata": {},
     "inputWidgets": {},
     "nuid": "3082600f-3c7b-44f3-b4ae-02e3a56807ab",
     "showTitle": false,
     "title": ""
    }
   },
   "source": [
    "When the index has been created, we can now upsert vectors of data records to the index. `Upsert` means that we are writing the vectors into the index. \n",
    "\n",
    "Refer to this [documentation page](https://docs.pinecone.io/docs/python-client#indexupsert) to look at example code and vectors."
   ]
  },
  {
   "cell_type": "code",
   "execution_count": 0,
   "metadata": {
    "application/vnd.databricks.v1+cell": {
     "cellMetadata": {},
     "inputWidgets": {},
     "nuid": "3fe33e7b-aea6-439c-b359-7e80fa5423fc",
     "showTitle": false,
     "title": ""
    }
   },
   "outputs": [],
   "source": [
    "from tqdm.auto import tqdm\n",
    "\n",
    "batch_size = 1000\n",
    "\n",
    "for i in tqdm(range(0, len(pdf[\"title\"]), batch_size)):\n",
    "    # find end of batch\n",
    "    i_end = min(i + batch_size, len(pdf[\"title\"]))\n",
    "    # create IDs batch\n",
    "    ids = [str(x) for x in range(i, i_end)]\n",
    "    # create metadata batch\n",
    "    metadata = [{\"title\": title} for title in pdf[\"title\"][i:i_end]]\n",
    "    # create embeddings\n",
    "    embedding_title_batch = model.encode(pdf[\"title\"][i:i_end]).tolist()\n",
    "    # create records list for upsert\n",
    "    records = zip(ids, embedding_title_batch, metadata)\n",
    "    # upsert to Pinecone\n",
    "    pinecone_index.upsert(vectors=records)\n",
    "\n",
    "# check number of records in the index\n",
    "pinecone_index.describe_index_stats()"
   ]
  },
  {
   "cell_type": "markdown",
   "metadata": {
    "application/vnd.databricks.v1+cell": {
     "cellMetadata": {},
     "inputWidgets": {},
     "nuid": "e9b9ee7c-361a-43c9-aace-4defb42c87b4",
     "showTitle": false,
     "title": ""
    }
   },
   "source": [
    "Once the vectors are upserted, we can now query the index directly! Notice that it returns us the similarity score in the result too."
   ]
  },
  {
   "cell_type": "code",
   "execution_count": 0,
   "metadata": {
    "application/vnd.databricks.v1+cell": {
     "cellMetadata": {},
     "inputWidgets": {},
     "nuid": "b2c482f9-f08d-4be0-9338-472927887e1e",
     "showTitle": false,
     "title": ""
    }
   },
   "outputs": [],
   "source": [
    "query = \"fish\"\n",
    "\n",
    "# create the query vector\n",
    "user_query = model.encode(query).tolist()\n",
    "\n",
    "# submit the query to the Pinecone index\n",
    "pinecone_answer = pinecone_index.query(user_query, top_k=3, include_metadata=True)\n",
    "\n",
    "for result in pinecone_answer[\"matches\"]:\n",
    "    print(f\"{round(result['score'], 2)}, {result['metadata']['title']}\")\n",
    "    print(\"-\" * 120)"
   ]
  },
  {
   "cell_type": "markdown",
   "metadata": {
    "application/vnd.databricks.v1+cell": {
     "cellMetadata": {},
     "inputWidgets": {},
     "nuid": "586086d8-68b7-4f9f-bcef-17cc90677cdb",
     "showTitle": false,
     "title": ""
    }
   },
   "source": [
    "### Method 2: Process with Spark and write to Pinecone with Spark\n",
    "\n",
    "Now that we have seen how to `upsert` with Pinecone, you may be curious whether we can use Spark DataFrame Writer (just like Weaviate) to write the entire dataframe out in a single operation. The answer is yes -- we will now take a look at how to do that and a spoiler alert is that you will need to use a Spark connector too! \n",
    "\n",
    "We first need to write a mapping function to map the tokenizer and embedding model onto batches of rows within the Spark DataFrame. We will be using a type of [pandas UDFs](https://www.databricks.com/blog/2020/05/20/new-pandas-udfs-and-python-type-hints-in-the-upcoming-release-of-apache-spark-3-0.html), called scalar iterator UDFs. \n",
    "\n",
    "> The function takes and outputs an iterator of pandas.Series.\n",
    "\n",
    "> The length of the whole output must be the same length of the whole input. Therefore, it can prefetch the data from the input iterator as long as the lengths of entire input and output are the same. The given function should take a single column as input.\n",
    "\n",
    "> It is also useful when the UDF execution requires expensive initialization of some state. \n",
    "\n",
    "We load the model once per partition of data, not per [batch](https://spark.apache.org/docs/latest/api/python/user_guide/sql/arrow_pandas.html#setting-arrow-batch-size), which is faster. \n",
    "\n",
    "For more documentation, refer [here](https://docs.databricks.com/udf/pandas.html)."
   ]
  },
  {
   "cell_type": "code",
   "execution_count": 0,
   "metadata": {
    "application/vnd.databricks.v1+cell": {
     "cellMetadata": {},
     "inputWidgets": {},
     "nuid": "cdf6dc80-f215-4f86-b81e-f3a9f3081ebb",
     "showTitle": false,
     "title": ""
    }
   },
   "outputs": [],
   "source": [
    "import pandas as pd\n",
    "from pyspark.sql.functions import pandas_udf\n",
    "from sentence_transformers import SentenceTransformer\n",
    "from typing import Iterator\n",
    "\n",
    "@pandas_udf(\"array<float>\")\n",
    "def create_embeddings_with_transformers(\n",
    "    sentences: Iterator[pd.Series],\n",
    ") -> Iterator[pd.Series]:\n",
    "    model = SentenceTransformer(\"sentence-transformers/all-MiniLM-L6-v2\")\n",
    "    for batch in sentences:\n",
    "        yield pd.Series(model.encode(batch).tolist())"
   ]
  },
  {
   "cell_type": "code",
   "execution_count": 0,
   "metadata": {
    "application/vnd.databricks.v1+cell": {
     "cellMetadata": {},
     "inputWidgets": {},
     "nuid": "5276f102-4233-4915-9b5a-08fb9b433fd8",
     "showTitle": false,
     "title": ""
    }
   },
   "outputs": [],
   "source": [
    "import pyspark.sql.functions as F\n",
    "\n",
    "transformer_type = \"sentence-transformers/all-MiniLM-L6-v2\"\n",
    "embedding_spark_df = (\n",
    "    df.limit(1000)\n",
    "    .withColumn(\"vector\", create_embeddings_with_transformers(\"title\"))\n",
    "    .withColumn(\"namespace\", F.lit(transformer_type))\n",
    "    .withColumn(\"metadata\", F.to_json(F.struct(F.col(\"topic\").alias(\"TOPIC\"))))\n",
    "    # We select these columns because they are expected by the Spark-Pinecone connector\n",
    "    .select(\"id\", \"vector\", \"namespace\", \"metadata\")\n",
    ")\n",
    "display(embedding_spark_df)"
   ]
  },
  {
   "cell_type": "markdown",
   "metadata": {
    "application/vnd.databricks.v1+cell": {
     "cellMetadata": {},
     "inputWidgets": {},
     "nuid": "5b0e676c-4858-4237-bb00-470f1806307e",
     "showTitle": false,
     "title": ""
    }
   },
   "source": [
    "Repeat the same step as in Method 1 above to delete and recreate the index. Again, we need to delete the index because Pinecone free tier only allows one index.\n",
    "\n",
    "Note: This could take ~3 minutes."
   ]
  },
  {
   "cell_type": "code",
   "execution_count": 0,
   "metadata": {
    "application/vnd.databricks.v1+cell": {
     "cellMetadata": {},
     "inputWidgets": {},
     "nuid": "392c94fa-792c-4b6f-a240-c3907b2e72dd",
     "showTitle": false,
     "title": ""
    }
   },
   "outputs": [],
   "source": [
    "pinecone_index_name = \"news\"\n",
    "\n",
    "if pinecone_index_name in pinecone.list_indexes():\n",
    "    pinecone.delete_index(pinecone_index_name)\n",
    "\n",
    "# only create index if it doesn't exist\n",
    "model = SentenceTransformer(transformer_type)\n",
    "if pinecone_index_name not in pinecone.list_indexes():\n",
    "    pinecone.create_index(\n",
    "        name=pinecone_index_name,\n",
    "        dimension=model.get_sentence_embedding_dimension(),\n",
    "        metric=\"cosine\",\n",
    "    )\n",
    "\n",
    "# now connect to the index\n",
    "pinecone_index = pinecone.Index(pinecone_index_name)"
   ]
  },
  {
   "cell_type": "markdown",
   "metadata": {
    "application/vnd.databricks.v1+cell": {
     "cellMetadata": {},
     "inputWidgets": {},
     "nuid": "94fcf715-9b27-4801-a4b4-6fe39173d171",
     "showTitle": false,
     "title": ""
    }
   },
   "source": [
    "Instead of writing in batches, you can now use Spark DataFrame Writer to write the data out to Pinecone directly.\n",
    "\n",
    "**IMPORTANT!!** You need to attach a Spark-Pinecone connector `s3://pinecone-jars/spark-pinecone-uberjar.jar` in the cluster you are using. Otherwise, this following command would fail. Refer to this [documentation](https://docs.pinecone.io/docs/databricks#setting-up-a-spark-cluster) if you need more information."
   ]
  },
  {
   "cell_type": "code",
   "execution_count": 0,
   "metadata": {
    "application/vnd.databricks.v1+cell": {
     "cellMetadata": {},
     "inputWidgets": {},
     "nuid": "39542d0e-6b12-4cc8-88a6-6fe1f01bff4c",
     "showTitle": false,
     "title": ""
    }
   },
   "outputs": [],
   "source": [
    "(\n",
    "    embedding_spark_df.write.option(\"pinecone.apiKey\", pinecone_api_key)\n",
    "    .option(\"pinecone.environment\", pinecone_env)\n",
    "    .option(\"pinecone.projectName\", pinecone.whoami().projectname)\n",
    "    .option(\"pinecone.indexName\", pinecone_index_name)\n",
    "    .format(\"io.pinecone.spark.pinecone.Pinecone\")\n",
    "    .mode(\"append\")\n",
    "    .save()\n",
    ")"
   ]
  },
  {
   "cell_type": "markdown",
   "metadata": {
    "application/vnd.databricks.v1+cell": {
     "cellMetadata": {},
     "inputWidgets": {},
     "nuid": "6a9c340c-2045-4bab-a894-1d64814742cc",
     "showTitle": false,
     "title": ""
    }
   },
   "source": [
    "-sandbox\n",
    "&copy; 2023 Databricks, Inc. All rights reserved.<br/>\n",
    "Apache, Apache Spark, Spark and the Spark logo are trademarks of the <a href=\"https://www.apache.org/\">Apache Software Foundation</a>.<br/>\n",
    "<br/>\n",
    "<a href=\"https://databricks.com/privacy-policy\">Privacy Policy</a> | <a href=\"https://databricks.com/terms-of-use\">Terms of Use</a> | <a href=\"https://help.databricks.com/\">Support</a>"
   ]
  }
 ],
 "metadata": {
  "application/vnd.databricks.v1+notebook": {
   "dashboards": [],
   "language": "python",
   "notebookMetadata": {
    "pythonIndentUnit": 4
   },
   "notebookName": "LLM 02a - Pinecone [OPTIONAL]",
   "widgets": {}
  }
 },
 "nbformat": 4,
 "nbformat_minor": 0
}
